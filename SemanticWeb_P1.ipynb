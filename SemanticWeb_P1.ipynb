{
  "nbformat": 4,
  "nbformat_minor": 0,
  "metadata": {
    "colab": {
      "name": "SemanticWeb_P1",
      "provenance": []
    },
    "kernelspec": {
      "name": "python3",
      "display_name": "Python 3"
    }
  },
  "cells": [
    {
      "cell_type": "markdown",
      "metadata": {
        "id": "U5pzgvAum7__"
      },
      "source": [
        "#Assignment 1 \n",
        "\n",
        "---\n",
        "Pankaj Kumar Saini (MIT2020117),\n",
        "\n",
        "Arun Kumar (MIT2020116), \n",
        "\n",
        "Pankaj (MIT2020114)\n"
      ]
    },
    {
      "cell_type": "markdown",
      "metadata": {
        "id": "SK5OHL7WdEl2"
      },
      "source": [
        "#Importing Libraries"
      ]
    },
    {
      "cell_type": "code",
      "metadata": {
        "id": "OCjk8Svkiv6V"
      },
      "source": [
        "import tensorflow as tf\n",
        "import matplotlib.pyplot as plt\n",
        "import numpy as np"
      ],
      "execution_count": null,
      "outputs": []
    },
    {
      "cell_type": "markdown",
      "metadata": {
        "id": "Zv0NMgs6dMw0"
      },
      "source": [
        "#Importing DataSet"
      ]
    },
    {
      "cell_type": "code",
      "metadata": {
        "id": "VmCeSCFZi0cp"
      },
      "source": [
        "mnist = tf.keras.datasets.mnist\n",
        "\n",
        "# Spiliting DataSet into training and testing data\n",
        "(training_images, training_labels), (testing_images, testing_labels) = mnist.load_data()"
      ],
      "execution_count": null,
      "outputs": []
    },
    {
      "cell_type": "markdown",
      "metadata": {
        "id": "D0XC3QzKdj7Q"
      },
      "source": [
        "#Exploring and Preprocessing the data"
      ]
    },
    {
      "cell_type": "code",
      "metadata": {
        "colab": {
          "base_uri": "https://localhost:8080/",
          "height": 257
        },
        "id": "7KFmV8erhy5_",
        "outputId": "0bc2b1ee-d386-4965-9ec4-2c1fd39fc85e"
      },
      "source": [
        "# Showing 10 training images with labels\n",
        "plt.figure(figsize=(10, 10))\n",
        "for i in range(10):\n",
        "  plt.subplot(5, 5, i+1)\n",
        "  plt.xticks([])\n",
        "  plt.yticks([])\n",
        "  plt.grid(False)\n",
        "  plt.imshow(training_images[i], cmap=plt.cm.binary)\n",
        "  plt.title([training_labels[i]])\n",
        "plt.show()"
      ],
      "execution_count": null,
      "outputs": [
        {
          "output_type": "display_data",
          "data": {
            "image/png": "[encoded data removed]",
            "text/plain": [
              "<Figure size 720x720 with 10 Axes>"
            ]
          },
          "metadata": {
            "tags": []
          }
        }
      ]
    },
    {
      "cell_type": "code",
      "metadata": {
        "id": "AaFWrSE8i68U",
        "colab": {
          "base_uri": "https://localhost:8080/"
        },
        "outputId": "493df6b5-329d-4bac-9607-b342fb7e6119"
      },
      "source": [
        "# Shape of Training and Testing data\n",
        "print(training_images.shape)\n",
        "print(training_labels.shape)\n",
        "print(\"Training Data has 60000 images of 28 x 28 pixels and 60000 labels\\n\")\n",
        "print(testing_images.shape)\n",
        "print(testing_labels.shape)\n",
        "print(\"Testing Data has 10000 images of 28 x 28 pixels and 10000 labels\")"
      ],
      "execution_count": null,
      "outputs": [
        {
          "output_type": "stream",
          "text": [
            "(60000, 28, 28)\n",
            "(60000,)\n",
            "Training Data has 60000 images of 28 x 28 pixels and 60000 labels\n",
            "\n",
            "(10000, 28, 28)\n",
            "(10000,)\n",
            "Testing Data has 10000 images of 28 x 28 pixels and 10000 labels\n"
          ],
          "name": "stdout"
        }
      ]
    },
    {
      "cell_type": "code",
      "metadata": {
        "id": "xuuAc9HRCf7a"
      },
      "source": [
        "# Preprocessing the data\n",
        "# normalizing Images\n",
        "training_images = training_images.reshape(60000, 28, 28, 1)\n",
        "training_images = training_images / 255.0\n",
        "testing_images = testing_images.reshape(10000, 28, 28, 1)\n",
        "testing_images = testing_images / 255.0"
      ],
      "execution_count": null,
      "outputs": []
    },
    {
      "cell_type": "markdown",
      "metadata": {
        "id": "PZekB3vadvUI"
      },
      "source": [
        "# Building Sequential Model"
      ]
    },
    {
      "cell_type": "code",
      "metadata": {
        "id": "PUUEAggWjbT2"
      },
      "source": [
        "# Making model having \n",
        "# one Convolution layer with 64 filters of size 3x3 with 'relu' as activation function\n",
        "# one Max Pooling layer of size 2x2\n",
        "# 2 Dense layer of 128 and 10 units\n",
        "model = tf.keras.Sequential([\n",
        "                              tf.keras.layers.Conv2D(64, (3,3), activation='relu', input_shape=(28, 28, 1)),\n",
        "                              tf.keras.layers.MaxPooling2D(2, 2),\n",
        "                              tf.keras.layers.Flatten(),\n",
        "                              tf.keras.layers.Dense(units=128, activation='relu'),\n",
        "                              tf.keras.layers.Dense(units=10, activation='softmax')\n",
        "])"
      ],
      "execution_count": null,
      "outputs": []
    },
    {
      "cell_type": "code",
      "metadata": {
        "colab": {
          "base_uri": "https://localhost:8080/"
        },
        "id": "-RXGW9kGml31",
        "outputId": "44aa8100-5fb1-4cc3-ce62-e976912a3e47"
      },
      "source": [
        "model.summary()"
      ],
      "execution_count": null,
      "outputs": [
        {
          "output_type": "stream",
          "text": [
            "Model: \"sequential_1\"\n",
            "_________________________________________________________________\n",
            "Layer (type)                 Output Shape              Param #   \n",
            "=================================================================\n",
            "conv2d_1 (Conv2D)            (None, 26, 26, 64)        640       \n",
            "_________________________________________________________________\n",
            "max_pooling2d_1 (MaxPooling2 (None, 13, 13, 64)        0         \n",
            "_________________________________________________________________\n",
            "flatten_1 (Flatten)          (None, 10816)             0         \n",
            "_________________________________________________________________\n",
            "dense_2 (Dense)              (None, 128)               1384576   \n",
            "_________________________________________________________________\n",
            "dense_3 (Dense)              (None, 10)                1290      \n",
            "=================================================================\n",
            "Total params: 1,386,506\n",
            "Trainable params: 1,386,506\n",
            "Non-trainable params: 0\n",
            "_________________________________________________________________\n"
          ],
          "name": "stdout"
        }
      ]
    },
    {
      "cell_type": "markdown",
      "metadata": {
        "id": "kRDQZ_5Fd0gf"
      },
      "source": [
        "# Compiling the Model"
      ]
    },
    {
      "cell_type": "code",
      "metadata": {
        "id": "V1dRTYGVkFSG"
      },
      "source": [
        "# compiling model with optimizer as 'adam' and loss as 'sparse_categorical_crossentropy'\n",
        "model.compile(optimizer='adam', loss='sparse_categorical_crossentropy', metrics=['accuracy'])"
      ],
      "execution_count": null,
      "outputs": []
    },
    {
      "cell_type": "markdown",
      "metadata": {
        "id": "fVnM7__Nd5P1"
      },
      "source": [
        "# Training the model"
      ]
    },
    {
      "cell_type": "code",
      "metadata": {
        "id": "MHOKiyo1v6ps",
        "colab": {
          "base_uri": "https://localhost:8080/"
        },
        "outputId": "b56ea2d9-d509-4c54-ab3e-99c47389b380"
      },
      "source": [
        "# Fiting the model\n",
        "model.fit(training_images, training_labels, epochs=2)"
      ],
      "execution_count": null,
      "outputs": [
        {
          "output_type": "stream",
          "text": [
            "Epoch 1/2\n",
            "1875/1875 [==============================] - 56s 29ms/step - loss: 0.2648 - accuracy: 0.9196\n",
            "Epoch 2/2\n",
            "1875/1875 [==============================] - 57s 30ms/step - loss: 0.0465 - accuracy: 0.9861\n"
          ],
          "name": "stdout"
        },
        {
          "output_type": "execute_result",
          "data": {
            "text/plain": [
              "<tensorflow.python.keras.callbacks.History at 0x7f1bdf0f01d0>"
            ]
          },
          "metadata": {
            "tags": []
          },
          "execution_count": 68
        }
      ]
    },
    {
      "cell_type": "markdown",
      "metadata": {
        "id": "4WHCdWeDd9bQ"
      },
      "source": [
        "# Evaluating the model"
      ]
    },
    {
      "cell_type": "code",
      "metadata": {
        "colab": {
          "base_uri": "https://localhost:8080/"
        },
        "id": "5vyeqUQSgx-z",
        "outputId": "07e59468-4b0d-4745-d35d-cb990bd038a4"
      },
      "source": [
        "# Evaluating the model\n",
        "test_loss = model.evaluate(testing_images, testing_labels)"
      ],
      "execution_count": null,
      "outputs": [
        {
          "output_type": "stream",
          "text": [
            "313/313 [==============================] - 3s 8ms/step - loss: 0.0520 - accuracy: 0.9826\n"
          ],
          "name": "stdout"
        }
      ]
    },
    {
      "cell_type": "markdown",
      "metadata": {
        "id": "GUz7RctheFh2"
      },
      "source": [
        "# Make Prediction"
      ]
    },
    {
      "cell_type": "code",
      "metadata": {
        "id": "Kf81VjZag1qm"
      },
      "source": [
        "# saving Predictions\n",
        "pred = model.predict(testing_images)"
      ],
      "execution_count": null,
      "outputs": []
    },
    {
      "cell_type": "code",
      "metadata": {
        "id": "zBke3xIClfbV"
      },
      "source": [
        "# Reshaping the images\n",
        "testing_images = testing_images.reshape(10000, 28, 28)"
      ],
      "execution_count": null,
      "outputs": []
    },
    {
      "cell_type": "code",
      "metadata": {
        "colab": {
          "base_uri": "https://localhost:8080/",
          "height": 257
        },
        "id": "dNf2GSgZjTo2",
        "outputId": "e8f7315c-2dd9-4083-b2ca-80e15c65d957"
      },
      "source": [
        "# representing predicting labels with images\n",
        "plt.figure(figsize=(10, 10))\n",
        "for i in range(10):\n",
        "  plt.subplot(5, 5, i+1)\n",
        "  plt.xticks([])\n",
        "  plt.yticks([])\n",
        "  plt.grid(False)\n",
        "  plt.imshow(testing_images[i], cmap=plt.cm.binary)\n",
        "  plt.title([np.argmax(pred[i])])\n",
        "plt.show()"
      ],
      "execution_count": null,
      "outputs": [
        {
          "output_type": "display_data",
          "data": {
            "image/png": "[encoded data removed]",
            "text/plain": [
              "<Figure size 720x720 with 10 Axes>"
            ]
          },
          "metadata": {
            "tags": []
          }
        }
      ]
    },
    {
      "cell_type": "code",
      "metadata": {
        "id": "Z1KerV4Ml1LM"
      },
      "source": [
        ""
      ],
      "execution_count": null,
      "outputs": []
    }
  ]
}